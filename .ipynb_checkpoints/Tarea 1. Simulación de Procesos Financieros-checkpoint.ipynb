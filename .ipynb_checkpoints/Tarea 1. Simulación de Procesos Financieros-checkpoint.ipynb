{
 "cells": [
  {
   "cell_type": "markdown",
   "metadata": {},
   "source": [
    "# <font color=\"red\">  Expectativas del Curso </font>"
   ]
  },
  {
   "cell_type": "markdown",
   "metadata": {},
   "source": [
    "**Simulación de Procesos Financieros** es una matería que hemos esperado desde hace un par de semestres. La expectativa del curso no solo se reduce a realizar simulaciones del comportamiento de ciertos fenómenos financieros, sino a entender y ser capaces de plantear y representar de manera matemática y mediante código los factores que influyen en el proceso de dicho fenómeno para un mayor entendimiento y con ello una mejor interpretabilidad de los resultados obtenidos. \n",
    "\n",
    "De igual forma, esperamos mejorar nuestra habilidad de programación y nuestro razonamiento deductivo mediante ejercicios continuos que nos reten y pongan a prueba nuestra habiliad actual de representar mediante código una problemática planteada. \n",
    "\n",
    "De manera un poco más bursátil, esperamos aprender a obtener el precio de opciones con un nivel aceptable de confiabilidad con el fin de ser capaces de plantear estrategias de inversión con métodos más robustos y confiables.\n",
    "\n",
    "En fin, esperamos poder emplear la mayoría de lo que hemos aprendido en la carrera, pero enfocado plenamente en el ámbito financiero."
   ]
  },
  {
   "cell_type": "markdown",
   "metadata": {},
   "source": [
    "#### Encontrar los Números primeros de 0 hasta N. (Se realizó Mediante la Criba de Eratóstenes)"
   ]
  },
  {
   "cell_type": "code",
   "execution_count": 1,
   "metadata": {
    "scrolled": true
   },
   "outputs": [
    {
     "name": "stdout",
     "output_type": "stream",
     "text": [
      "[ 1  2  3  5  7 11 13 17 19 23 25 29 31 35 37 41 43 47 49 53 55 59 61 65\n",
      " 67 71 73 77 79 83 85 89 91 95 97]\n"
     ]
    }
   ],
   "source": [
    "limite=101; import numpy as np;lista = np.arange(1,limite)\n",
    "for k in lista:\n",
    "    if k>1:\n",
    "        if (k**2)<=limite-1:\n",
    "            eliminar = lista%k!=0\n",
    "            try:\n",
    "                index_encontrar = list(eliminar).index(False)\n",
    "                rep = np.tile(True,index_encontrar+1)\n",
    "                eliminar = eliminar[index_encontrar+1:]    \n",
    "                lista_com = np.concatenate([rep,eliminar])\n",
    "                lista = lista[lista_com]\n",
    "            except:\n",
    "                print(lista)\n",
    "                break\n",
    "        else:\n",
    "            print(lista)\n",
    "            break"
   ]
  },
  {
   "cell_type": "markdown",
   "metadata": {},
   "source": [
    "<img style=\"center\" src=\"https://upload.wikimedia.org/wikipedia/commons/b/b9/Sieve_of_Eratosthenes_animation.gif\" width=\"500px\" height=\"400px\" alt=\"atom\" />"
   ]
  },
  {
   "cell_type": "markdown",
   "metadata": {},
   "source": [
    "**Serie de Fibonachi**"
   ]
  },
  {
   "cell_type": "markdown",
   "metadata": {},
   "source": [
    "<H3><center><i>Python se está convirtiendo en el lenguaje  <br>\n",
    "<center>de codificación más popular del mundo </center></H3>\n",
    "\n",
    "<br>\n",
    "**Guido van Rossum** es un científico en informática que ideo Python, en 1989. Gracias a que este lenguaje de programación tiene como características principales la simplicidad, flexibilidad, su sintaxis sencilla y la lectura de uso compartido, rápidamente en los últimos años se ha convertido en uno de los lenguajes más importantes. \n",
    "\n",
    "En Python se han subido 145.000 paquetes de software personalizados a un repositorio en línea, siendo uno de los paquetes mas populares el aprendizaje automático, el agarrar grandes cantidades de datos para elegir patrones que sean predecibles. \n",
    "\n",
    "A pesar del gran crecimiento que ha tenido Python durante estos años, no remplazará a otros lenguajes de programación como C+, C++, Java, por las distintas ventajas que posee cada una de ellas en distintas ramas. "
   ]
  },
  {
   "cell_type": "code",
   "execution_count": 1,
   "metadata": {},
   "outputs": [
    {
     "name": "stdout",
     "output_type": "stream",
     "text": [
      "Serie de Fibonachi para N = 100\n",
      "La serie empieza con 0\n",
      "La serie empieza con 1\n",
      "La suma de 0 y 1 es igual a : 1. N = 2\n",
      "La suma de 1 y 1 es igual a : 2. N = 3\n",
      "La suma de 1 y 2 es igual a : 3. N = 4\n",
      "La suma de 2 y 3 es igual a : 5. N = 5\n",
      "La suma de 3 y 5 es igual a : 8. N = 6\n",
      "La suma de 5 y 8 es igual a : 13. N = 7\n",
      "La suma de 8 y 13 es igual a : 21. N = 8\n",
      "La suma de 13 y 21 es igual a : 34. N = 9\n",
      "La suma de 21 y 34 es igual a : 55. N = 10\n",
      "La suma de 34 y 55 es igual a : 89. N = 11\n",
      "La suma de 55 y 89 es igual a : 144. N = 12\n",
      "La suma de 89 y 144 es igual a : 233. N = 13\n",
      "La suma de 144 y 233 es igual a : 377. N = 14\n",
      "La suma de 233 y 377 es igual a : 610. N = 15\n",
      "La suma de 377 y 610 es igual a : 987. N = 16\n",
      "La suma de 610 y 987 es igual a : 1597. N = 17\n",
      "La suma de 987 y 1597 es igual a : 2584. N = 18\n",
      "La suma de 1597 y 2584 es igual a : 4181. N = 19\n",
      "La suma de 2584 y 4181 es igual a : 6765. N = 20\n",
      "La suma de 4181 y 6765 es igual a : 10946. N = 21\n",
      "La suma de 6765 y 10946 es igual a : 17711. N = 22\n",
      "La suma de 10946 y 17711 es igual a : 28657. N = 23\n",
      "La suma de 17711 y 28657 es igual a : 46368. N = 24\n",
      "La suma de 28657 y 46368 es igual a : 75025. N = 25\n",
      "La suma de 46368 y 75025 es igual a : 121393. N = 26\n",
      "La suma de 75025 y 121393 es igual a : 196418. N = 27\n",
      "La suma de 121393 y 196418 es igual a : 317811. N = 28\n",
      "La suma de 196418 y 317811 es igual a : 514229. N = 29\n",
      "La suma de 317811 y 514229 es igual a : 832040. N = 30\n",
      "La suma de 514229 y 832040 es igual a : 1346269. N = 31\n",
      "La suma de 832040 y 1346269 es igual a : 2178309. N = 32\n",
      "La suma de 1346269 y 2178309 es igual a : 3524578. N = 33\n",
      "La suma de 2178309 y 3524578 es igual a : 5702887. N = 34\n",
      "La suma de 3524578 y 5702887 es igual a : 9227465. N = 35\n",
      "La suma de 5702887 y 9227465 es igual a : 14930352. N = 36\n",
      "La suma de 9227465 y 14930352 es igual a : 24157817. N = 37\n",
      "La suma de 14930352 y 24157817 es igual a : 39088169. N = 38\n",
      "La suma de 24157817 y 39088169 es igual a : 63245986. N = 39\n",
      "La suma de 39088169 y 63245986 es igual a : 102334155. N = 40\n",
      "La suma de 63245986 y 102334155 es igual a : 165580141. N = 41\n",
      "La suma de 102334155 y 165580141 es igual a : 267914296. N = 42\n",
      "La suma de 165580141 y 267914296 es igual a : 433494437. N = 43\n",
      "La suma de 267914296 y 433494437 es igual a : 701408733. N = 44\n",
      "La suma de 433494437 y 701408733 es igual a : 1134903170. N = 45\n",
      "La suma de 701408733 y 1134903170 es igual a : 1836311903. N = 46\n",
      "La suma de 1134903170 y 1836311903 es igual a : 2971215073. N = 47\n",
      "La suma de 1836311903 y 2971215073 es igual a : 4807526976. N = 48\n",
      "La suma de 2971215073 y 4807526976 es igual a : 7778742049. N = 49\n",
      "La suma de 4807526976 y 7778742049 es igual a : 12586269025. N = 50\n",
      "La suma de 7778742049 y 12586269025 es igual a : 20365011074. N = 51\n",
      "La suma de 12586269025 y 20365011074 es igual a : 32951280099. N = 52\n",
      "La suma de 20365011074 y 32951280099 es igual a : 53316291173. N = 53\n",
      "La suma de 32951280099 y 53316291173 es igual a : 86267571272. N = 54\n",
      "La suma de 53316291173 y 86267571272 es igual a : 139583862445. N = 55\n",
      "La suma de 86267571272 y 139583862445 es igual a : 225851433717. N = 56\n",
      "La suma de 139583862445 y 225851433717 es igual a : 365435296162. N = 57\n",
      "La suma de 225851433717 y 365435296162 es igual a : 591286729879. N = 58\n",
      "La suma de 365435296162 y 591286729879 es igual a : 956722026041. N = 59\n",
      "La suma de 591286729879 y 956722026041 es igual a : 1548008755920. N = 60\n",
      "La suma de 956722026041 y 1548008755920 es igual a : 2504730781961. N = 61\n",
      "La suma de 1548008755920 y 2504730781961 es igual a : 4052739537881. N = 62\n",
      "La suma de 2504730781961 y 4052739537881 es igual a : 6557470319842. N = 63\n",
      "La suma de 4052739537881 y 6557470319842 es igual a : 10610209857723. N = 64\n",
      "La suma de 6557470319842 y 10610209857723 es igual a : 17167680177565. N = 65\n",
      "La suma de 10610209857723 y 17167680177565 es igual a : 27777890035288. N = 66\n",
      "La suma de 17167680177565 y 27777890035288 es igual a : 44945570212853. N = 67\n",
      "La suma de 27777890035288 y 44945570212853 es igual a : 72723460248141. N = 68\n",
      "La suma de 44945570212853 y 72723460248141 es igual a : 117669030460994. N = 69\n",
      "La suma de 72723460248141 y 117669030460994 es igual a : 190392490709135. N = 70\n",
      "La suma de 117669030460994 y 190392490709135 es igual a : 308061521170129. N = 71\n",
      "La suma de 190392490709135 y 308061521170129 es igual a : 498454011879264. N = 72\n",
      "La suma de 308061521170129 y 498454011879264 es igual a : 806515533049393. N = 73\n",
      "La suma de 498454011879264 y 806515533049393 es igual a : 1304969544928657. N = 74\n",
      "La suma de 806515533049393 y 1304969544928657 es igual a : 2111485077978050. N = 75\n",
      "La suma de 1304969544928657 y 2111485077978050 es igual a : 3416454622906707. N = 76\n",
      "La suma de 2111485077978050 y 3416454622906707 es igual a : 5527939700884757. N = 77\n",
      "La suma de 3416454622906707 y 5527939700884757 es igual a : 8944394323791464. N = 78\n",
      "La suma de 5527939700884757 y 8944394323791464 es igual a : 14472334024676221. N = 79\n",
      "La suma de 8944394323791464 y 14472334024676221 es igual a : 23416728348467685. N = 80\n",
      "La suma de 14472334024676221 y 23416728348467685 es igual a : 37889062373143906. N = 81\n",
      "La suma de 23416728348467685 y 37889062373143906 es igual a : 61305790721611591. N = 82\n",
      "La suma de 37889062373143906 y 61305790721611591 es igual a : 99194853094755497. N = 83\n",
      "La suma de 61305790721611591 y 99194853094755497 es igual a : 160500643816367088. N = 84\n",
      "La suma de 99194853094755497 y 160500643816367088 es igual a : 259695496911122585. N = 85\n",
      "La suma de 160500643816367088 y 259695496911122585 es igual a : 420196140727489673. N = 86\n",
      "La suma de 259695496911122585 y 420196140727489673 es igual a : 679891637638612258. N = 87\n",
      "La suma de 420196140727489673 y 679891637638612258 es igual a : 1100087778366101931. N = 88\n",
      "La suma de 679891637638612258 y 1100087778366101931 es igual a : 1779979416004714189. N = 89\n",
      "La suma de 1100087778366101931 y 1779979416004714189 es igual a : 2880067194370816120. N = 90\n",
      "La suma de 1779979416004714189 y 2880067194370816120 es igual a : 4660046610375530309. N = 91\n",
      "La suma de 2880067194370816120 y 4660046610375530309 es igual a : 7540113804746346429. N = 92\n",
      "La suma de 4660046610375530309 y 7540113804746346429 es igual a : 12200160415121876738. N = 93\n",
      "La suma de 7540113804746346429 y 12200160415121876738 es igual a : 19740274219868223167. N = 94\n",
      "La suma de 12200160415121876738 y 19740274219868223167 es igual a : 31940434634990099905. N = 95\n",
      "La suma de 19740274219868223167 y 31940434634990099905 es igual a : 51680708854858323072. N = 96\n",
      "La suma de 31940434634990099905 y 51680708854858323072 es igual a : 83621143489848422977. N = 97\n",
      "La suma de 51680708854858323072 y 83621143489848422977 es igual a : 135301852344706746049. N = 98\n",
      "La suma de 83621143489848422977 y 135301852344706746049 es igual a : 218922995834555169026. N = 99\n",
      "La suma de 135301852344706746049 y 218922995834555169026 es igual a : 354224848179261915075. N = 100\n"
     ]
    }
   ],
   "source": [
    "import matplotlib.pyplot as plt\n",
    "from matplotlib import style\n",
    "style.use(\"ggplot\")\n",
    "fibonachi = []\n",
    "for k in range(101):\n",
    "    if k==0:\n",
    "        print(\"Serie de Fibonachi para N = 100\")\n",
    "        print(\"La serie empieza con {}\".format(k))\n",
    "        fibonachi.append(k)\n",
    "    if k==1:\n",
    "        print(\"La serie empieza con {}\".format(k))\n",
    "        fibonachi.append(k)\n",
    "    if k>1:\n",
    "        print(\"La suma de {} y {} es igual a : {}. N = {}\".format(fibonachi[-2],fibonachi[-1],fibonachi[-2]+fibonachi[-1],k))\n",
    "        fibonachi.append(fibonachi[-2]+fibonachi[-1])"
   ]
  },
  {
   "cell_type": "markdown",
   "metadata": {
    "collapsed": true
   },
   "source": [
    "# <font color=\"rede\"> $\\LaTeX$ </font>"
   ]
  },
  {
   "cell_type": "markdown",
   "metadata": {},
   "source": [
    "1. La fórmula del rectángulo se obtiene al intérpolar a $f(x)$ por medio del polinomio constante $p_o(x) = f(\\frac{a+b}{2}).$\n",
    "\n",
    "$$\\int_a^b  f(x)\\ dx \\approx (b-a)f(\\frac{a+b}{2}) = R(f)$$\n",
    "\n",
    "2. La fórmula del trapecio se obtiene al interpolar a $f$ po medio de un polinomio lineal $p_1(x) = \\alpha\\cdot x + \\beta$ que setisfaga $f(a) = p_1(a),\\ y\\ f(b) = p_i(b) $. Determinar el polinomio lineal es equivalente a resolver un sistema de ecuaciones lineales para $\\alpha y \\beta$ cuya solución es\n",
    "$$\\alpha = \\frac{f(b)-f(a)}{b-a},\\ \\beta = \\frac{f(b)a-f(a)b}{b-a}$$\n",
    "   Al integrar $p_i(x)$ en el intervalo $[a,b]$ se obtiene la regla del trapecio con $h=b-a$\n",
    "   \n",
    "   $$\\int_a^b  f(x)\\ dx \\approx \\int_a^b p_i(x)\\ dx =\\frac{h}{2}(f(a)+f(b))=T(f)$$\n",
    "\n",
    "    El error está dado por\n",
    "    \n",
    "    $$\\int_a^b f(x)\\ dx -T(f) = -\\frac{h^3}{12}(f''(\\eta)),\\ \\ a<\\eta<b$$\n",
    "   \n",
    "3. Por último, al integrar el polinomio cuadrático que interpola a $f$ en $x=a$, $x = \\frac{a+b}{2}$ y $x=b$ se obtiene la regla de Simpson con $h = \\frac{b-a}{2}$.\n",
    "\n",
    "$$\\int_a^b f(x)\\ dx \\approx \\int_a^b p_2(x)\\ dx = \\frac{h}{3}(f(a) +4\\cdot f(a+h) +f(b)) = S(f)$$\n",
    "    \n",
    "   El error que se comete al usar Simpson es\n",
    "   $$\\int_a^b = f(x)\\ dx - S(f) =  \\frac{h^5}{90}(f^{(5)}(\\mathcal{n})), \\ \\ a<\\mathcal{n}<b$$"
   ]
  },
  {
   "cell_type": "code",
   "execution_count": null,
   "metadata": {},
   "outputs": [],
   "source": []
  }
 ],
 "metadata": {
  "kernelspec": {
   "display_name": "Python 3",
   "language": "python",
   "name": "python3"
  },
  "language_info": {
   "codemirror_mode": {
    "name": "ipython",
    "version": 3
   },
   "file_extension": ".py",
   "mimetype": "text/x-python",
   "name": "python",
   "nbconvert_exporter": "python",
   "pygments_lexer": "ipython3",
   "version": "3.7.3"
  }
 },
 "nbformat": 4,
 "nbformat_minor": 2
}
