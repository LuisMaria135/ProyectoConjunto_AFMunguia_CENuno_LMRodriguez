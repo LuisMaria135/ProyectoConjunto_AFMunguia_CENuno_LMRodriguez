{
 "cells": [
  {
   "cell_type": "markdown",
   "metadata": {},
   "source": [
    "# <font color=\"red\">  Expectativas del Curso </font>"
   ]
  },
  {
   "cell_type": "markdown",
   "metadata": {},
   "source": [
    "**Simulación de Procesos Financieros** es una matería que hemos esperado desde hace un par de semestres. La expectativa del curso no solo se reduce a realizar simulaciones del comportamiento de ciertos fenómenos financieros, sino a entender y ser capaces de plantear y representar de manera matemática y mediante código los factores que influyen en el proceso de dicho fenómeno para un mayor entendimiento y con ello una mejor interpretabilidad de los resultados obtenidos. \n",
    "\n",
    "De igual forma, esperamos mejorar nuestra habilidad de programación y nuestro razonamiento deductivo mediante ejercicios continuos que nos reten y pongan a prueba nuestra habiliad actual de representar mediante código una problemática planteada. \n",
    "\n",
    "De manera un poco más bursátil, esperamos aprender a obtener el precio de opciones con un nivel aceptable de confiabilidad con el fin de ser capaces de plantear estrategias de inversión con métodos más robustos y confiables.\n",
    "\n",
    "En fin, esperamos poder emplear la mayoría de lo que hemos aprendido en la carrera, pero enfocado plenamente en el ámbito financiero."
   ]
  },
  {
   "cell_type": "markdown",
   "metadata": {},
   "source": [
    "#### Encontrar los Números primeros de 0 hasta N. (Se realizó Mediante la Criba de Eratóstenes)"
   ]
  },
  {
   "cell_type": "code",
   "execution_count": 1,
   "metadata": {
    "scrolled": true
   },
   "outputs": [
    {
     "name": "stdout",
     "output_type": "stream",
     "text": [
      "[ 1  2  3  5  7 11 13 17 19 23 25 29 31 35 37 41 43 47 49 53 55 59 61 65\n",
      " 67 71 73 77 79 83 85 89 91 95 97]\n"
     ]
    }
   ],
   "source": [
    "limite=101; import numpy as np;lista = np.arange(1,limite)\n",
    "for k in lista:\n",
    "    if k>1:\n",
    "        if (k**2)<=limite-1:\n",
    "            eliminar = lista%k!=0\n",
    "            try:\n",
    "                index_encontrar = list(eliminar).index(False)\n",
    "                rep = np.tile(True,index_encontrar+1)\n",
    "                eliminar = eliminar[index_encontrar+1:]    \n",
    "                lista_com = np.concatenate([rep,eliminar])\n",
    "                lista = lista[lista_com]\n",
    "            except:\n",
    "                print(lista)\n",
    "                break\n",
    "        else:\n",
    "            print(lista)\n",
    "            break"
   ]
  },
  {
   "cell_type": "markdown",
   "metadata": {},
   "source": [
    "<img style=\"center\" src=\"https://upload.wikimedia.org/wikipedia/commons/b/b9/Sieve_of_Eratosthenes_animation.gif\" width=\"500px\" height=\"400px\" alt=\"atom\" />"
   ]
  },
  {
   "cell_type": "markdown",
   "metadata": {},
   "source": [
    "**Serie de Fibonachi**"
   ]
  }
 ],
 "metadata": {
  "kernelspec": {
   "display_name": "Python 3",
   "language": "python",
   "name": "python3"
  },
  "language_info": {
   "codemirror_mode": {
    "name": "ipython",
    "version": 3
   },
   "file_extension": ".py",
   "mimetype": "text/x-python",
   "name": "python",
   "nbconvert_exporter": "python",
   "pygments_lexer": "ipython3",
   "version": "3.7.3"
  }
 },
 "nbformat": 4,
 "nbformat_minor": 2
}
